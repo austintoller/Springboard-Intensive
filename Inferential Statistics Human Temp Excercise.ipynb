{
 "cells": [
  {
   "cell_type": "markdown",
   "metadata": {},
   "source": [
    "# What is the True Normal Human Body Temperature? \n",
    "\n",
    "#### Background\n",
    "\n",
    "The mean normal body temperature was held to be 37$^{\\circ}$C or 98.6$^{\\circ}$F for more than 120 years since it was first conceptualized and reported by Carl Wunderlich in a famous 1868 book. But, is this value statistically correct?"
   ]
  },
  {
   "cell_type": "markdown",
   "metadata": {},
   "source": [
    "<div class=\"span5 alert alert-info\">\n",
    "<h3>Exercises</h3>\n",
    "\n",
    "<p>In this exercise, you will analyze a dataset of human body temperatures and employ the concepts of hypothesis testing, confidence intervals, and statistical significance.</p>\n",
    "\n",
    "<p>Answer the following questions <b>in this notebook below and submit to your Github account</b>.</p> \n",
    "\n",
    "<ol>\n",
    "<li>  Is the distribution of body temperatures normal? \n",
    "    <ul>\n",
    "    <li> Although this is not a requirement for CLT to hold (read CLT carefully), it gives us some peace of mind that the population may also be normally distributed if we assume that this sample is representative of the population.\n",
    "    </ul>\n",
    "<li>  Is the sample size large? Are the observations independent?\n",
    "    <ul>\n",
    "    <li> Remember that this is a condition for the CLT, and hence the statistical tests we are using, to apply.\n",
    "    </ul>\n",
    "<li>  Is the true population mean really 98.6 degrees F?\n",
    "    <ul>\n",
    "    <li> Would you use a one-sample or two-sample test? Why?\n",
    "    <li> In this situation, is it appropriate to use the $t$ or $z$ statistic? \n",
    "    <li> Now try using the other test. How is the result be different? Why?\n",
    "    </ul>\n",
    "<li>  At what temperature should we consider someone's temperature to be \"abnormal\"?\n",
    "    <ul>\n",
    "    <li> Start by computing the margin of error and confidence interval.\n",
    "    </ul>\n",
    "<li>  Is there a significant difference between males and females in normal temperature?\n",
    "    <ul>\n",
    "    <li> What test did you use and why?\n",
    "    <li> Write a story with your conclusion in the context of the original problem.\n",
    "    </ul>\n",
    "</ol>\n",
    "\n",
    "You can include written notes in notebook cells using Markdown: \n",
    "   - In the control panel at the top, choose Cell > Cell Type > Markdown\n",
    "   - Markdown syntax: http://nestacms.com/docs/creating-content/markdown-cheat-sheet\n",
    "\n",
    "#### Resources\n",
    "\n",
    "+ Information and data sources: http://www.amstat.org/publications/jse/datasets/normtemp.txt, http://www.amstat.org/publications/jse/jse_data_archive.htm\n",
    "+ Markdown syntax: http://nestacms.com/docs/creating-content/markdown-cheat-sheet\n",
    "\n",
    "****\n",
    "</div>"
   ]
  },
  {
   "cell_type": "markdown",
   "metadata": {},
   "source": [
    "# Human Temperature Inferential Statistics Exercise\n",
    "\n",
    "#### Import Necessary Packages and the CSV File"
   ]
  },
  {
   "cell_type": "code",
   "execution_count": 217,
   "metadata": {
    "collapsed": true
   },
   "outputs": [],
   "source": [
    "import pandas as pd\n",
    "\n",
    "df = pd.read_csv('data/human_body_temperature.csv')\n",
    "temp_dist = df['temperature'].sort_values()\n",
    "\n",
    "import numpy as np\n",
    "import scipy\n",
    "import seaborn as sns\n",
    "from scipy import stats\n",
    "from scipy.stats import alpha\n",
    "import math\n",
    "%matplotlib inline\n",
    "from scipy.stats import normaltest\n"
   ]
  },
  {
   "cell_type": "markdown",
   "metadata": {},
   "source": [
    "#### Get Initial Information of Temperature Data with Head and Describe"
   ]
  },
  {
   "cell_type": "code",
   "execution_count": 5,
   "metadata": {},
   "outputs": [
    {
     "data": {
      "text/html": [
       "<div>\n",
       "<style>\n",
       "    .dataframe thead tr:only-child th {\n",
       "        text-align: right;\n",
       "    }\n",
       "\n",
       "    .dataframe thead th {\n",
       "        text-align: left;\n",
       "    }\n",
       "\n",
       "    .dataframe tbody tr th {\n",
       "        vertical-align: top;\n",
       "    }\n",
       "</style>\n",
       "<table border=\"1\" class=\"dataframe\">\n",
       "  <thead>\n",
       "    <tr style=\"text-align: right;\">\n",
       "      <th></th>\n",
       "      <th>temperature</th>\n",
       "      <th>gender</th>\n",
       "      <th>heart_rate</th>\n",
       "    </tr>\n",
       "  </thead>\n",
       "  <tbody>\n",
       "    <tr>\n",
       "      <th>0</th>\n",
       "      <td>99.3</td>\n",
       "      <td>F</td>\n",
       "      <td>68</td>\n",
       "    </tr>\n",
       "    <tr>\n",
       "      <th>1</th>\n",
       "      <td>98.4</td>\n",
       "      <td>F</td>\n",
       "      <td>81</td>\n",
       "    </tr>\n",
       "    <tr>\n",
       "      <th>2</th>\n",
       "      <td>97.8</td>\n",
       "      <td>M</td>\n",
       "      <td>73</td>\n",
       "    </tr>\n",
       "    <tr>\n",
       "      <th>3</th>\n",
       "      <td>99.2</td>\n",
       "      <td>F</td>\n",
       "      <td>66</td>\n",
       "    </tr>\n",
       "    <tr>\n",
       "      <th>4</th>\n",
       "      <td>98.0</td>\n",
       "      <td>F</td>\n",
       "      <td>73</td>\n",
       "    </tr>\n",
       "  </tbody>\n",
       "</table>\n",
       "</div>"
      ],
      "text/plain": [
       "   temperature gender  heart_rate\n",
       "0         99.3      F          68\n",
       "1         98.4      F          81\n",
       "2         97.8      M          73\n",
       "3         99.2      F          66\n",
       "4         98.0      F          73"
      ]
     },
     "execution_count": 5,
     "metadata": {},
     "output_type": "execute_result"
    }
   ],
   "source": [
    "df.head()"
   ]
  },
  {
   "cell_type": "code",
   "execution_count": 354,
   "metadata": {
    "scrolled": true
   },
   "outputs": [
    {
     "data": {
      "text/html": [
       "<div>\n",
       "<style>\n",
       "    .dataframe thead tr:only-child th {\n",
       "        text-align: right;\n",
       "    }\n",
       "\n",
       "    .dataframe thead th {\n",
       "        text-align: left;\n",
       "    }\n",
       "\n",
       "    .dataframe tbody tr th {\n",
       "        vertical-align: top;\n",
       "    }\n",
       "</style>\n",
       "<table border=\"1\" class=\"dataframe\">\n",
       "  <thead>\n",
       "    <tr style=\"text-align: right;\">\n",
       "      <th></th>\n",
       "      <th>temperature</th>\n",
       "      <th>heart_rate</th>\n",
       "    </tr>\n",
       "  </thead>\n",
       "  <tbody>\n",
       "    <tr>\n",
       "      <th>count</th>\n",
       "      <td>130.000000</td>\n",
       "      <td>130.000000</td>\n",
       "    </tr>\n",
       "    <tr>\n",
       "      <th>mean</th>\n",
       "      <td>98.249231</td>\n",
       "      <td>73.761538</td>\n",
       "    </tr>\n",
       "    <tr>\n",
       "      <th>std</th>\n",
       "      <td>0.733183</td>\n",
       "      <td>7.062077</td>\n",
       "    </tr>\n",
       "    <tr>\n",
       "      <th>min</th>\n",
       "      <td>96.300000</td>\n",
       "      <td>57.000000</td>\n",
       "    </tr>\n",
       "    <tr>\n",
       "      <th>25%</th>\n",
       "      <td>97.800000</td>\n",
       "      <td>69.000000</td>\n",
       "    </tr>\n",
       "    <tr>\n",
       "      <th>50%</th>\n",
       "      <td>98.300000</td>\n",
       "      <td>74.000000</td>\n",
       "    </tr>\n",
       "    <tr>\n",
       "      <th>75%</th>\n",
       "      <td>98.700000</td>\n",
       "      <td>79.000000</td>\n",
       "    </tr>\n",
       "    <tr>\n",
       "      <th>max</th>\n",
       "      <td>100.800000</td>\n",
       "      <td>89.000000</td>\n",
       "    </tr>\n",
       "  </tbody>\n",
       "</table>\n",
       "</div>"
      ],
      "text/plain": [
       "       temperature  heart_rate\n",
       "count   130.000000  130.000000\n",
       "mean     98.249231   73.761538\n",
       "std       0.733183    7.062077\n",
       "min      96.300000   57.000000\n",
       "25%      97.800000   69.000000\n",
       "50%      98.300000   74.000000\n",
       "75%      98.700000   79.000000\n",
       "max     100.800000   89.000000"
      ]
     },
     "execution_count": 354,
     "metadata": {},
     "output_type": "execute_result"
    }
   ],
   "source": [
    "df.describe()"
   ]
  },
  {
   "cell_type": "markdown",
   "metadata": {},
   "source": [
    "### Test for Normal. Histogram Included.\n",
    "\n",
    "### 1. The data set is likely to be a normal distribution.\n",
    "\n",
    "### 2. There are 130 samples, which is greater than 30. The data set is large enough to analyze. The samples are independent."
   ]
  },
  {
   "cell_type": "code",
   "execution_count": 226,
   "metadata": {},
   "outputs": [
    {
     "name": "stdout",
     "output_type": "stream",
     "text": [
      "2.70380143332 0.258747986349\n",
      "It is likely that the distribution is normal\n"
     ]
    },
    {
     "data": {
      "text/plain": [
       "NormaltestResult(statistic=2.7038014333192031, pvalue=0.2587479863488254)"
      ]
     },
     "execution_count": 226,
     "metadata": {},
     "output_type": "execute_result"
    },
    {
     "data": {
      "image/png": "[encoded data removed]",
      "text/plain": [
       "<matplotlib.figure.Figure at 0x1a14ece908>"
      ]
     },
     "metadata": {},
     "output_type": "display_data"
    }
   ],
   "source": [
    "# Let's check data to see if it is a normal distribution\n",
    "\n",
    "from scipy.stats import normaltest\n",
    "value, p = normaltest(temp_dist)\n",
    "print(value, p)\n",
    "if p >= 0.05:\n",
    "    print('It is likely that the distribution is normal')\n",
    "else:\n",
    "    print('It is unlikely that distribution is normal')  \n",
    "    \n",
    "sns.distplot(temp_dist)\n",
    "\n",
    "# 1. The distribution of body temperature is normal.\n",
    "\n",
    "# This is another way to use the normaltest funtion in scipy.\n",
    "scipy.stats.mstats.normaltest(df['temperature'], axis=None)\n",
    " "
   ]
  },
  {
   "cell_type": "code",
   "execution_count": 225,
   "metadata": {},
   "outputs": [
    {
     "name": "stdout",
     "output_type": "stream",
     "text": [
      "The mean of the data set is equal to  98.24923076923078\n",
      "The std deviation of the data set is equal to  0.7303577789050377\n"
     ]
    }
   ],
   "source": [
    "# Calculate the sample mean and standard deviation.\n",
    "mean = np.mean(df['temperature'])  #Get mean of temperature. \n",
    "print('The mean of the data set is equal to ',mean)\n",
    "\n",
    "deviation = np.std(df['temperature']) #Get Test Std Deviation\n",
    "print('The std deviation of the data set is equal to ',deviation)"
   ]
  },
  {
   "cell_type": "code",
   "execution_count": 228,
   "metadata": {},
   "outputs": [
    {
     "name": "stdout",
     "output_type": "stream",
     "text": [
      "The population mean is  98.6\n",
      "The population std deviation is  0.06405661469519336\n"
     ]
    }
   ],
   "source": [
    "# Get population mean and std deviation (use sample deviation) for comparison.\n",
    "\n",
    "pop_mean = 98.6 # Using the 98.6 mean temperature provided above as the population mean\n",
    "pop_std = math.sqrt((deviation**2)/len(temp_dist)) # Calculate the population std deviation\n",
    "print('The population mean is ',pop_mean)\n",
    "print('The population std deviation is ',pop_std)\n"
   ]
  },
  {
   "cell_type": "code",
   "execution_count": 238,
   "metadata": {},
   "outputs": [
    {
     "name": "stdout",
     "output_type": "stream",
     "text": [
      "The confidence interval for the population mean 98.6 is  (98.47444903519741, 98.72555096480258)\n"
     ]
    }
   ],
   "source": [
    "# Population confidence interval for 95%. (+/- 47.5 from mean of 98.6)\n",
    "# Use Z Score Table and find the value 1.96 (Margin of Error is 95%)\n",
    "z_score = 1.96\n",
    "interval = (pop_mean - z_score*pop_std, pop_mean+ z_score*pop_std)\n",
    "print('The confidence interval for the population mean 98.6 is ',interval)\n"
   ]
  },
  {
   "cell_type": "code",
   "execution_count": 244,
   "metadata": {},
   "outputs": [
    {
     "name": "stdout",
     "output_type": "stream",
     "text": [
      "The confidence interval for 99% MOE is  (98.4347339340864, 98.7652660659136)\n"
     ]
    }
   ],
   "source": [
    "# Let's find the confidence interval for 99% Margin of Error.\n",
    "z_score = 2.58\n",
    "interval = (pop_mean - z_score*pop_std, pop_mean + z_score*pop_std)\n",
    "print('The confidence interval for 99% MOE is ', interval)\n",
    "\n",
    "# 4. For a 95% confidence interval, a temperature less than 98.474 or greater than 98.726 is considered abnormal.\n"
   ]
  },
  {
   "cell_type": "code",
   "execution_count": 239,
   "metadata": {},
   "outputs": [
    {
     "name": "stdout",
     "output_type": "stream",
     "text": [
      "The confidence inverval for the population using the t_score is  (98.47316790290351, 98.72683209709648)\n"
     ]
    }
   ],
   "source": [
    "# Let's check the T Score information for the population.\n",
    "t_score = 1.98\n",
    "interval_t = (pop_mean - t_score*pop_std, pop_mean + t_score*pop_std)\n",
    "print('The confidence inverval for the population using the t_score is ',interval_t)"
   ]
  },
  {
   "cell_type": "markdown",
   "metadata": {},
   "source": [
    "### Using the T Score of 1.98, the minimum population is 98.4732 is still greater than our test number of 98.2492. The test mean does not equal 98.6. The t-test and z-test have almost equal confidence intervals as expected.\n",
    "\n",
    "### 3. The sample mean is not equal to 98.6. It is 98.2392. Since we are comparing one sample to a population, we use a one-sample test. Ideally, use the t-test when the sample size is less than 30, and the population standard deviation is not known. Use the z-test when the sample size is larger than 30, and the standard deviation is unknown. In this case confidence intervals are extremely close since we have 130 samples; they will continue to get closer as the sample size increases.\n",
    "\n",
    "### 4. For a 95% confidence interval, a temperature less than 98.474 or greater than 98.726 is considered abnormal."
   ]
  },
  {
   "cell_type": "code",
   "execution_count": 60,
   "metadata": {},
   "outputs": [
    {
     "data": {
      "text/plain": [
       "0.5334224852071"
      ]
     },
     "execution_count": 60,
     "metadata": {},
     "output_type": "execute_result"
    }
   ],
   "source": [
    "np.var(df['temperature']) # Find variance with np.var."
   ]
  },
  {
   "cell_type": "code",
   "execution_count": 355,
   "metadata": {},
   "outputs": [
    {
     "name": "stdout",
     "output_type": "stream",
     "text": [
      "The mean and z_score equal  98.24923076923078 1.96\n",
      "The confidence interval equals  (98.12367980442819, 98.37478173403336)\n"
     ]
    }
   ],
   "source": [
    "# Let's check the test data confidence interval to get the \"normal\" range.\n",
    "z_score = 1.96\n",
    "print('The mean and z_score equal ',mean, z_score)\n",
    "test_confidence = (mean - (z_score*pop_std), mean + (z_score*pop_std))\n",
    "print('The confidence interval equals ',test_confidence)\n",
    "\n"
   ]
  },
  {
   "cell_type": "markdown",
   "metadata": {},
   "source": [
    "#### Calculations of various tests were added out of curiosity."
   ]
  },
  {
   "cell_type": "code",
   "execution_count": 252,
   "metadata": {},
   "outputs": [
    {
     "name": "stdout",
     "output_type": "stream",
     "text": [
      "t-statistic 1 sample = -5.455 pvalue = 0.0000\n",
      "KS-statistic =  1.000 pvalue = 0.0000\n",
      "ks-2 sample stat =  0.185 pvalue = 0.1954\n",
      "\n",
      "normaltest teststat =  2.704 pvalue = 0.2587\n",
      "normal skewtest teststat = -0.021 pvalue = 0.9830\n",
      "normal kurtosistest teststat =  1.644 pvalue = 0.1001\n"
     ]
    }
   ],
   "source": [
    "# Check various tests to see the results.\n",
    "print('t-statistic 1 sample = %6.3f pvalue = %6.4f' % stats.ttest_1samp(df['temperature'],pop_mean))\n",
    "print('KS-statistic = %6.3f pvalue = %6.4f' % stats.kstest(df['temperature'], 'norm'))\n",
    "print('ks-2 sample stat = %6.3f pvalue = %6.4f' % stats.ks_2samp(male_temp, female_temp))\n",
    "print()\n",
    "print('normaltest teststat = %6.3f pvalue = %6.4f' % stats.normaltest(df['temperature'])) \n",
    "print('normal skewtest teststat = %6.3f pvalue = %6.4f' % stats.skewtest(df['temperature']))\n",
    "print('normal kurtosistest teststat = %6.3f pvalue = %6.4f' % stats.kurtosistest(df['temperature']))\n"
   ]
  },
  {
   "cell_type": "markdown",
   "metadata": {},
   "source": [
    "### Compare Female and Male Temperature Data"
   ]
  },
  {
   "cell_type": "code",
   "execution_count": 363,
   "metadata": {},
   "outputs": [
    {
     "name": "stdout",
     "output_type": "stream",
     "text": [
      "The male mean temperature and std deviation equal  98.1046153846154 0.6933598841828696\n",
      "The kurtosis test equals  KurtosistestResult(statistic=-0.58126846340432392, pvalue=0.56105953177336954)\n",
      "The male t-test is  Ttest_1sampResult(statistic=-3.279302431971439e-13, pvalue=0.99999999999973932)\n",
      "The number of male samples is  65\n",
      "The male p_value is  5.229680932e-15\n",
      "\n",
      "The female mean temperature and std deviation equal  98.39384615384613 0.7377464486428966\n",
      "The kurtosis test for females is  KurtosistestResult(statistic=2.1486794123176178, pvalue=0.031659821780462477)\n",
      "The female t-test is  Ttest_1sampResult(statistic=1.5410014908339561e-13, pvalue=0.99999999999987754)\n",
      "The number of female samples is  65\n",
      "The female pvalue is  0.000644748780994\n",
      "\n",
      "The mean absolute difference between female and male means is 0.289230769230727\n",
      "The 2 sample kurtosis test is  Ks_2sampResult(statistic=0.18461538461538457, pvalue=0.19539014047941772)\n",
      "\n",
      "Female Temperature Data Describe\n",
      "count     65.000000\n",
      "mean      98.393846\n",
      "std        0.743488\n",
      "min       96.400000\n",
      "25%       98.000000\n",
      "50%       98.400000\n",
      "75%       98.800000\n",
      "max      100.800000\n",
      "Name: temperature, dtype: float64\n",
      "\n",
      "Male Temperature Data Describe\n",
      "count    65.000000\n",
      "mean     98.104615\n",
      "std       0.698756\n",
      "min      96.300000\n",
      "25%      97.600000\n",
      "50%      98.100000\n",
      "75%      98.600000\n",
      "max      99.500000\n",
      "Name: temperature, dtype: float64\n",
      "\n",
      "Female Data =  4.73543811291 0.0936941938986\n",
      "It is likely that result is normal\n",
      "\n",
      "Male Data =  0.891199966695 0.640439907457\n",
      "It is likely that result is normal\n",
      "\n",
      "The t-test data comparing the two sets =  2.28543453817 0.0239318831224\n",
      "Samples are likely drawn from different distributions (reject H0) statistically significant\n"
     ]
    }
   ],
   "source": [
    "# Identify mean and deviation of males and females to compare.\n",
    "male_temp = df[df.gender == 'M'].temperature\n",
    "female_temp = df[df.gender == 'F'].temperature\n",
    "male_mean = np.mean(male_temp)\n",
    "male_std = np.std(male_temp)\n",
    "male_kurt = stats.kurtosistest(male_temp)\n",
    "male_t = scipy.stats.ttest_1samp(male_temp,male_mean)\n",
    "male_count = len(male_temp)\n",
    "male_z = (male_mean - pop_mean)/pop_std\n",
    "male_p = stats.norm.cdf(male_z)\n",
    "\n",
    "\n",
    "print('The male mean temperature and std deviation equal ',male_mean, male_std)\n",
    "print('The kurtosis test equals ',male_kurt)\n",
    "print('The male t-test is ',male_t)\n",
    "print('The number of male samples is ',male_count)\n",
    "print('The male p_value is ',male_p)\n",
    "\n",
    "print()\n",
    "\n",
    "female_mean = np.mean(female_temp)\n",
    "female_std = np.std(female_temp)\n",
    "female_kurt = stats.kurtosistest(female_temp)\n",
    "female_t = scipy.stats.ttest_1samp(female_temp, female_mean)\n",
    "female_count = len(female_temp)\n",
    "female_z = ((female_mean - pop_mean)/pop_std)\n",
    "female_p = stats.norm.cdf(female_z)\n",
    "\n",
    "print('The female mean temperature and std deviation equal ',female_mean, female_std)\n",
    "print('The kurtosis test for females is ',female_kurt)\n",
    "print('The female t-test is ',female_t)\n",
    "print('The number of female samples is ',female_count)\n",
    "print('The female pvalue is ',female_p)\n",
    "\n",
    "print()\n",
    "mean_diff = abs(male_mean - female_mean)\n",
    "print('The mean absolute difference between female and male means is',mean_diff)\n",
    "ks_2s = stats.ks_2samp(male_temp, female_temp)\n",
    "print('The 2 sample kurtosis test is ',ks_2s)\n",
    "\n",
    "# load results files\n",
    "\n",
    "from pandas import read_csv\n",
    "from matplotlib import pyplot\n",
    "# load results file\n",
    "results = DataFrame()\n",
    "results['Female'] = df[df.gender == 'F'].temperature\n",
    "results['Male'] = df[df.gender == 'M'].temperature\n",
    "\n",
    "# descriptive stats\n",
    "print()\n",
    "print('Female Temperature Data Describe')\n",
    "print(female_temp.describe())\n",
    "print()\n",
    "print('Male Temperature Data Describe')\n",
    "print(male_temp.describe())\n",
    "print()\n",
    "\n",
    "from scipy.stats import normaltest\n",
    "\n",
    "value, p = normaltest(female_temp)\n",
    "print('Female Data = ',value, p)\n",
    "if p >= 0.05:\n",
    "    print('It is likely that result is normal')\n",
    "else:\n",
    "    print('It is unlikely that result is normal')  \n",
    " \n",
    "print()\n",
    "\n",
    "value2, p2 = normaltest(male_temp)\n",
    "print('Male Data = ',value2, p2)\n",
    "if p2 >= 0.05:\n",
    "    print('It is likely that result is normal')\n",
    "else:\n",
    "    print('It is unlikely that result is normal')\n",
    " \n",
    "print()\n",
    "\n",
    "# calculate the significance\n",
    "\n",
    "value, pvalue = ttest_ind(female_temp, male_temp, equal_var=True)\n",
    "print('The t-test data comparing the two sets = ',value, pvalue)\n",
    "if pvalue >= 0.05:\n",
    "    print('Samples are likely drawn from the same distributions (accept H0) statistically insignificant')\n",
    "else:\n",
    "    print('Samples are likely drawn from different distributions (reject H0) statistically significant')\n",
    "    \n",
    "# 5. There is a statistically significant variance between the female and male temperatures.\n",
    "# 5. A t-test two-sample test was used since we compared two samples.\n",
    "    \n"
   ]
  },
  {
   "cell_type": "markdown",
   "metadata": {
    "collapsed": true
   },
   "source": [
    "### 5. There is a statistically significant variance between the female and male temperatures. A t-test two-sample test was used to compare the two samples.\n",
    "\n",
    "####  The mean absolute difference between the female and male data = 0.2892\n",
    "####  Both data sets were tested and found to be normal.\n",
    "####  Female Mean = 98.3939 and Male Mean = 98.1046\n",
    "####  Female Std Dev = 0.7435 and Male Std Dev = 0.6988\n",
    "####  Both sets of data contained 65 samples."
   ]
  },
  {
   "cell_type": "markdown",
   "metadata": {},
   "source": [
    "###  Summary Story of Exercise\n",
    "\n",
    "### Using the sample data, it is likely that the sample mean 98.2392 compared to the 98.6 population mean is statistically significant. The data set is likely to be a normal distribution. There were 130 independent samples (65 were female, and 65 were male). Several tests were done: z-test, t-test (one and two sample), normal test, variance, margin of error and confidence intervals. The summary of the responses to the five questions is below. \n",
    "\n",
    "\n",
    "#### 1. The data set is likely to be a normal distribution.\n",
    "\n",
    "#### 2. There are 130 samples, which is greater than 30. The data set is large enough to analyze. The samples are independent.\n",
    "\n",
    "#### 3. The sample mean is not equal to 98.6. It is 98.2392. Since we are comparing one sample to a population, we use a one-sample test. Ideally, use the t-test when the sample size is less than 30, and the population standard deviation is not known. Use the z-test when the sample size is larger than 30, and the standard deviation is unknown. In this case confidence intervals are extremely close since we have 130 samples; they will continue to get closer as the sample size increases.\n",
    "\n",
    "#### 4. For a 95% confidence interval, a temperature less than 98.474 or greater than 98.726 is considered abnormal.\n",
    "\n",
    "#### 5. There is a statistically significant variance between the female and male temperatures. A t-test two-sample test was used to compare the two samples."
   ]
  }
 ],
 "metadata": {
  "kernelspec": {
   "display_name": "Python 3",
   "language": "python",
   "name": "python3"
  },
  "language_info": {
   "codemirror_mode": {
    "name": "ipython",
    "version": 3
   },
   "file_extension": ".py",
   "mimetype": "text/x-python",
   "name": "python",
   "nbconvert_exporter": "python",
   "pygments_lexer": "ipython3",
   "version": "3.6.3"
  }
 },
 "nbformat": 4,
 "nbformat_minor": 1
}
